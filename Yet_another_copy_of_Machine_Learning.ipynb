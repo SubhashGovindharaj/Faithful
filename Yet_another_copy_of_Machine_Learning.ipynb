{
  "cells": [
    {
      "cell_type": "markdown",
      "metadata": {
        "id": "view-in-github",
        "colab_type": "text"
      },
      "source": [
        "<a href=\"https://colab.research.google.com/github/SubhashGovindharaj/Faithful/blob/main/Yet_another_copy_of_Machine_Learning.ipynb\" target=\"_parent\"><img src=\"https://colab.research.google.com/assets/colab-badge.svg\" alt=\"Open In Colab\"/></a>"
      ]
    },
    {
      "cell_type": "code",
      "execution_count": null,
      "metadata": {
        "id": "qO_8uDMWvRr_"
      },
      "outputs": [],
      "source": []
    },
    {
      "cell_type": "markdown",
      "metadata": {
        "id": "_gzXqZ0Mr4UC"
      },
      "source": [
        "# K-means clustering"
      ]
    },
    {
      "cell_type": "code",
      "execution_count": null,
      "metadata": {
        "id": "WChYYYn3r9EQ"
      },
      "outputs": [],
      "source": [
        "import pandas as pd\n",
        "import numpy as np\n",
        "import matplotlib.pyplot as plt\n",
        "\n"
      ]
    },
    {
      "cell_type": "code",
      "execution_count": null,
      "metadata": {
        "colab": {
          "base_uri": "https://localhost:8080/",
          "height": 423
        },
        "id": "unq4TS-dsKaJ",
        "outputId": "35054438-5eed-4c06-e428-6608f9971204"
      },
      "outputs": [
        {
          "data": {
            "application/vnd.google.colaboratory.intrinsic+json": {
              "summary": "{\n  \"name\": \"df\",\n  \"rows\": 272,\n  \"fields\": [\n    {\n      \"column\": \"Unnamed: 0\",\n      \"properties\": {\n        \"dtype\": \"number\",\n        \"std\": 78,\n        \"min\": 1,\n        \"max\": 272,\n        \"num_unique_values\": 272,\n        \"samples\": [\n          31,\n          117,\n          80\n        ],\n        \"semantic_type\": \"\",\n        \"description\": \"\"\n      }\n    },\n    {\n      \"column\": \"eruptions\",\n      \"properties\": {\n        \"dtype\": \"number\",\n        \"std\": 1.141371251105208,\n        \"min\": 1.6,\n        \"max\": 5.1,\n        \"num_unique_values\": 126,\n        \"samples\": [\n          4.733,\n          1.967,\n          1.85\n        ],\n        \"semantic_type\": \"\",\n        \"description\": \"\"\n      }\n    },\n    {\n      \"column\": \"waiting\",\n      \"properties\": {\n        \"dtype\": \"number\",\n        \"std\": 13,\n        \"min\": 43,\n        \"max\": 96,\n        \"num_unique_values\": 51,\n        \"samples\": [\n          96,\n          87,\n          68\n        ],\n        \"semantic_type\": \"\",\n        \"description\": \"\"\n      }\n    }\n  ]\n}",
              "type": "dataframe",
              "variable_name": "df"
            },
            "text/html": [
              "\n",
              "  <div id=\"df-c30509cd-0ee3-41b7-ab5f-8f65155e55d9\" class=\"colab-df-container\">\n",
              "    <div>\n",
              "<style scoped>\n",
              "    .dataframe tbody tr th:only-of-type {\n",
              "        vertical-align: middle;\n",
              "    }\n",
              "\n",
              "    .dataframe tbody tr th {\n",
              "        vertical-align: top;\n",
              "    }\n",
              "\n",
              "    .dataframe thead th {\n",
              "        text-align: right;\n",
              "    }\n",
              "</style>\n",
              "<table border=\"1\" class=\"dataframe\">\n",
              "  <thead>\n",
              "    <tr style=\"text-align: right;\">\n",
              "      <th></th>\n",
              "      <th>Unnamed: 0</th>\n",
              "      <th>eruptions</th>\n",
              "      <th>waiting</th>\n",
              "    </tr>\n",
              "  </thead>\n",
              "  <tbody>\n",
              "    <tr>\n",
              "      <th>0</th>\n",
              "      <td>1</td>\n",
              "      <td>3.600</td>\n",
              "      <td>79</td>\n",
              "    </tr>\n",
              "    <tr>\n",
              "      <th>1</th>\n",
              "      <td>2</td>\n",
              "      <td>1.800</td>\n",
              "      <td>54</td>\n",
              "    </tr>\n",
              "    <tr>\n",
              "      <th>2</th>\n",
              "      <td>3</td>\n",
              "      <td>3.333</td>\n",
              "      <td>74</td>\n",
              "    </tr>\n",
              "    <tr>\n",
              "      <th>3</th>\n",
              "      <td>4</td>\n",
              "      <td>2.283</td>\n",
              "      <td>62</td>\n",
              "    </tr>\n",
              "    <tr>\n",
              "      <th>4</th>\n",
              "      <td>5</td>\n",
              "      <td>4.533</td>\n",
              "      <td>85</td>\n",
              "    </tr>\n",
              "    <tr>\n",
              "      <th>...</th>\n",
              "      <td>...</td>\n",
              "      <td>...</td>\n",
              "      <td>...</td>\n",
              "    </tr>\n",
              "    <tr>\n",
              "      <th>267</th>\n",
              "      <td>268</td>\n",
              "      <td>4.117</td>\n",
              "      <td>81</td>\n",
              "    </tr>\n",
              "    <tr>\n",
              "      <th>268</th>\n",
              "      <td>269</td>\n",
              "      <td>2.150</td>\n",
              "      <td>46</td>\n",
              "    </tr>\n",
              "    <tr>\n",
              "      <th>269</th>\n",
              "      <td>270</td>\n",
              "      <td>4.417</td>\n",
              "      <td>90</td>\n",
              "    </tr>\n",
              "    <tr>\n",
              "      <th>270</th>\n",
              "      <td>271</td>\n",
              "      <td>1.817</td>\n",
              "      <td>46</td>\n",
              "    </tr>\n",
              "    <tr>\n",
              "      <th>271</th>\n",
              "      <td>272</td>\n",
              "      <td>4.467</td>\n",
              "      <td>74</td>\n",
              "    </tr>\n",
              "  </tbody>\n",
              "</table>\n",
              "<p>272 rows × 3 columns</p>\n",
              "</div>\n",
              "    <div class=\"colab-df-buttons\">\n",
              "\n",
              "  <div class=\"colab-df-container\">\n",
              "    <button class=\"colab-df-convert\" onclick=\"convertToInteractive('df-c30509cd-0ee3-41b7-ab5f-8f65155e55d9')\"\n",
              "            title=\"Convert this dataframe to an interactive table.\"\n",
              "            style=\"display:none;\">\n",
              "\n",
              "  <svg xmlns=\"http://www.w3.org/2000/svg\" height=\"24px\" viewBox=\"0 -960 960 960\">\n",
              "    <path d=\"M120-120v-720h720v720H120Zm60-500h600v-160H180v160Zm220 220h160v-160H400v160Zm0 220h160v-160H400v160ZM180-400h160v-160H180v160Zm440 0h160v-160H620v160ZM180-180h160v-160H180v160Zm440 0h160v-160H620v160Z\"/>\n",
              "  </svg>\n",
              "    </button>\n",
              "\n",
              "  <style>\n",
              "    .colab-df-container {\n",
              "      display:flex;\n",
              "      gap: 12px;\n",
              "    }\n",
              "\n",
              "    .colab-df-convert {\n",
              "      background-color: #E8F0FE;\n",
              "      border: none;\n",
              "      border-radius: 50%;\n",
              "      cursor: pointer;\n",
              "      display: none;\n",
              "      fill: #1967D2;\n",
              "      height: 32px;\n",
              "      padding: 0 0 0 0;\n",
              "      width: 32px;\n",
              "    }\n",
              "\n",
              "    .colab-df-convert:hover {\n",
              "      background-color: #E2EBFA;\n",
              "      box-shadow: 0px 1px 2px rgba(60, 64, 67, 0.3), 0px 1px 3px 1px rgba(60, 64, 67, 0.15);\n",
              "      fill: #174EA6;\n",
              "    }\n",
              "\n",
              "    .colab-df-buttons div {\n",
              "      margin-bottom: 4px;\n",
              "    }\n",
              "\n",
              "    [theme=dark] .colab-df-convert {\n",
              "      background-color: #3B4455;\n",
              "      fill: #D2E3FC;\n",
              "    }\n",
              "\n",
              "    [theme=dark] .colab-df-convert:hover {\n",
              "      background-color: #434B5C;\n",
              "      box-shadow: 0px 1px 3px 1px rgba(0, 0, 0, 0.15);\n",
              "      filter: drop-shadow(0px 1px 2px rgba(0, 0, 0, 0.3));\n",
              "      fill: #FFFFFF;\n",
              "    }\n",
              "  </style>\n",
              "\n",
              "    <script>\n",
              "      const buttonEl =\n",
              "        document.querySelector('#df-c30509cd-0ee3-41b7-ab5f-8f65155e55d9 button.colab-df-convert');\n",
              "      buttonEl.style.display =\n",
              "        google.colab.kernel.accessAllowed ? 'block' : 'none';\n",
              "\n",
              "      async function convertToInteractive(key) {\n",
              "        const element = document.querySelector('#df-c30509cd-0ee3-41b7-ab5f-8f65155e55d9');\n",
              "        const dataTable =\n",
              "          await google.colab.kernel.invokeFunction('convertToInteractive',\n",
              "                                                    [key], {});\n",
              "        if (!dataTable) return;\n",
              "\n",
              "        const docLinkHtml = 'Like what you see? Visit the ' +\n",
              "          '<a target=\"_blank\" href=https://colab.research.google.com/notebooks/data_table.ipynb>data table notebook</a>'\n",
              "          + ' to learn more about interactive tables.';\n",
              "        element.innerHTML = '';\n",
              "        dataTable['output_type'] = 'display_data';\n",
              "        await google.colab.output.renderOutput(dataTable, element);\n",
              "        const docLink = document.createElement('div');\n",
              "        docLink.innerHTML = docLinkHtml;\n",
              "        element.appendChild(docLink);\n",
              "      }\n",
              "    </script>\n",
              "  </div>\n",
              "\n",
              "\n",
              "<div id=\"df-171498ac-823f-429b-b8b3-6facce80efb3\">\n",
              "  <button class=\"colab-df-quickchart\" onclick=\"quickchart('df-171498ac-823f-429b-b8b3-6facce80efb3')\"\n",
              "            title=\"Suggest charts\"\n",
              "            style=\"display:none;\">\n",
              "\n",
              "<svg xmlns=\"http://www.w3.org/2000/svg\" height=\"24px\"viewBox=\"0 0 24 24\"\n",
              "     width=\"24px\">\n",
              "    <g>\n",
              "        <path d=\"M19 3H5c-1.1 0-2 .9-2 2v14c0 1.1.9 2 2 2h14c1.1 0 2-.9 2-2V5c0-1.1-.9-2-2-2zM9 17H7v-7h2v7zm4 0h-2V7h2v10zm4 0h-2v-4h2v4z\"/>\n",
              "    </g>\n",
              "</svg>\n",
              "  </button>\n",
              "\n",
              "<style>\n",
              "  .colab-df-quickchart {\n",
              "      --bg-color: #E8F0FE;\n",
              "      --fill-color: #1967D2;\n",
              "      --hover-bg-color: #E2EBFA;\n",
              "      --hover-fill-color: #174EA6;\n",
              "      --disabled-fill-color: #AAA;\n",
              "      --disabled-bg-color: #DDD;\n",
              "  }\n",
              "\n",
              "  [theme=dark] .colab-df-quickchart {\n",
              "      --bg-color: #3B4455;\n",
              "      --fill-color: #D2E3FC;\n",
              "      --hover-bg-color: #434B5C;\n",
              "      --hover-fill-color: #FFFFFF;\n",
              "      --disabled-bg-color: #3B4455;\n",
              "      --disabled-fill-color: #666;\n",
              "  }\n",
              "\n",
              "  .colab-df-quickchart {\n",
              "    background-color: var(--bg-color);\n",
              "    border: none;\n",
              "    border-radius: 50%;\n",
              "    cursor: pointer;\n",
              "    display: none;\n",
              "    fill: var(--fill-color);\n",
              "    height: 32px;\n",
              "    padding: 0;\n",
              "    width: 32px;\n",
              "  }\n",
              "\n",
              "  .colab-df-quickchart:hover {\n",
              "    background-color: var(--hover-bg-color);\n",
              "    box-shadow: 0 1px 2px rgba(60, 64, 67, 0.3), 0 1px 3px 1px rgba(60, 64, 67, 0.15);\n",
              "    fill: var(--button-hover-fill-color);\n",
              "  }\n",
              "\n",
              "  .colab-df-quickchart-complete:disabled,\n",
              "  .colab-df-quickchart-complete:disabled:hover {\n",
              "    background-color: var(--disabled-bg-color);\n",
              "    fill: var(--disabled-fill-color);\n",
              "    box-shadow: none;\n",
              "  }\n",
              "\n",
              "  .colab-df-spinner {\n",
              "    border: 2px solid var(--fill-color);\n",
              "    border-color: transparent;\n",
              "    border-bottom-color: var(--fill-color);\n",
              "    animation:\n",
              "      spin 1s steps(1) infinite;\n",
              "  }\n",
              "\n",
              "  @keyframes spin {\n",
              "    0% {\n",
              "      border-color: transparent;\n",
              "      border-bottom-color: var(--fill-color);\n",
              "      border-left-color: var(--fill-color);\n",
              "    }\n",
              "    20% {\n",
              "      border-color: transparent;\n",
              "      border-left-color: var(--fill-color);\n",
              "      border-top-color: var(--fill-color);\n",
              "    }\n",
              "    30% {\n",
              "      border-color: transparent;\n",
              "      border-left-color: var(--fill-color);\n",
              "      border-top-color: var(--fill-color);\n",
              "      border-right-color: var(--fill-color);\n",
              "    }\n",
              "    40% {\n",
              "      border-color: transparent;\n",
              "      border-right-color: var(--fill-color);\n",
              "      border-top-color: var(--fill-color);\n",
              "    }\n",
              "    60% {\n",
              "      border-color: transparent;\n",
              "      border-right-color: var(--fill-color);\n",
              "    }\n",
              "    80% {\n",
              "      border-color: transparent;\n",
              "      border-right-color: var(--fill-color);\n",
              "      border-bottom-color: var(--fill-color);\n",
              "    }\n",
              "    90% {\n",
              "      border-color: transparent;\n",
              "      border-bottom-color: var(--fill-color);\n",
              "    }\n",
              "  }\n",
              "</style>\n",
              "\n",
              "  <script>\n",
              "    async function quickchart(key) {\n",
              "      const quickchartButtonEl =\n",
              "        document.querySelector('#' + key + ' button');\n",
              "      quickchartButtonEl.disabled = true;  // To prevent multiple clicks.\n",
              "      quickchartButtonEl.classList.add('colab-df-spinner');\n",
              "      try {\n",
              "        const charts = await google.colab.kernel.invokeFunction(\n",
              "            'suggestCharts', [key], {});\n",
              "      } catch (error) {\n",
              "        console.error('Error during call to suggestCharts:', error);\n",
              "      }\n",
              "      quickchartButtonEl.classList.remove('colab-df-spinner');\n",
              "      quickchartButtonEl.classList.add('colab-df-quickchart-complete');\n",
              "    }\n",
              "    (() => {\n",
              "      let quickchartButtonEl =\n",
              "        document.querySelector('#df-171498ac-823f-429b-b8b3-6facce80efb3 button');\n",
              "      quickchartButtonEl.style.display =\n",
              "        google.colab.kernel.accessAllowed ? 'block' : 'none';\n",
              "    })();\n",
              "  </script>\n",
              "</div>\n",
              "\n",
              "  <div id=\"id_262b245d-c104-435a-8ebe-64abcbe1a19d\">\n",
              "    <style>\n",
              "      .colab-df-generate {\n",
              "        background-color: #E8F0FE;\n",
              "        border: none;\n",
              "        border-radius: 50%;\n",
              "        cursor: pointer;\n",
              "        display: none;\n",
              "        fill: #1967D2;\n",
              "        height: 32px;\n",
              "        padding: 0 0 0 0;\n",
              "        width: 32px;\n",
              "      }\n",
              "\n",
              "      .colab-df-generate:hover {\n",
              "        background-color: #E2EBFA;\n",
              "        box-shadow: 0px 1px 2px rgba(60, 64, 67, 0.3), 0px 1px 3px 1px rgba(60, 64, 67, 0.15);\n",
              "        fill: #174EA6;\n",
              "      }\n",
              "\n",
              "      [theme=dark] .colab-df-generate {\n",
              "        background-color: #3B4455;\n",
              "        fill: #D2E3FC;\n",
              "      }\n",
              "\n",
              "      [theme=dark] .colab-df-generate:hover {\n",
              "        background-color: #434B5C;\n",
              "        box-shadow: 0px 1px 3px 1px rgba(0, 0, 0, 0.15);\n",
              "        filter: drop-shadow(0px 1px 2px rgba(0, 0, 0, 0.3));\n",
              "        fill: #FFFFFF;\n",
              "      }\n",
              "    </style>\n",
              "    <button class=\"colab-df-generate\" onclick=\"generateWithVariable('df')\"\n",
              "            title=\"Generate code using this dataframe.\"\n",
              "            style=\"display:none;\">\n",
              "\n",
              "  <svg xmlns=\"http://www.w3.org/2000/svg\" height=\"24px\"viewBox=\"0 0 24 24\"\n",
              "       width=\"24px\">\n",
              "    <path d=\"M7,19H8.4L18.45,9,17,7.55,7,17.6ZM5,21V16.75L18.45,3.32a2,2,0,0,1,2.83,0l1.4,1.43a1.91,1.91,0,0,1,.58,1.4,1.91,1.91,0,0,1-.58,1.4L9.25,21ZM18.45,9,17,7.55Zm-12,3A5.31,5.31,0,0,0,4.9,8.1,5.31,5.31,0,0,0,1,6.5,5.31,5.31,0,0,0,4.9,4.9,5.31,5.31,0,0,0,6.5,1,5.31,5.31,0,0,0,8.1,4.9,5.31,5.31,0,0,0,12,6.5,5.46,5.46,0,0,0,6.5,12Z\"/>\n",
              "  </svg>\n",
              "    </button>\n",
              "    <script>\n",
              "      (() => {\n",
              "      const buttonEl =\n",
              "        document.querySelector('#id_262b245d-c104-435a-8ebe-64abcbe1a19d button.colab-df-generate');\n",
              "      buttonEl.style.display =\n",
              "        google.colab.kernel.accessAllowed ? 'block' : 'none';\n",
              "\n",
              "      buttonEl.onclick = () => {\n",
              "        google.colab.notebook.generateWithVariable('df');\n",
              "      }\n",
              "      })();\n",
              "    </script>\n",
              "  </div>\n",
              "\n",
              "    </div>\n",
              "  </div>\n"
            ],
            "text/plain": [
              "     Unnamed: 0  eruptions  waiting\n",
              "0             1      3.600       79\n",
              "1             2      1.800       54\n",
              "2             3      3.333       74\n",
              "3             4      2.283       62\n",
              "4             5      4.533       85\n",
              "..          ...        ...      ...\n",
              "267         268      4.117       81\n",
              "268         269      2.150       46\n",
              "269         270      4.417       90\n",
              "270         271      1.817       46\n",
              "271         272      4.467       74\n",
              "\n",
              "[272 rows x 3 columns]"
            ]
          },
          "execution_count": 32,
          "metadata": {},
          "output_type": "execute_result"
        }
      ],
      "source": [
        "df = pd.read_csv('faithful.csv')\n",
        "df"
      ]
    },
    {
      "cell_type": "code",
      "execution_count": null,
      "metadata": {
        "id": "GJgQz3GasKeJ"
      },
      "outputs": [],
      "source": [
        "del df['Unnamed: 0']"
      ]
    },
    {
      "cell_type": "code",
      "execution_count": null,
      "metadata": {
        "colab": {
          "base_uri": "https://localhost:8080/",
          "height": 423
        },
        "id": "CEKmEPk6t7-j",
        "outputId": "ae6bc797-af73-434d-c5f7-237a62b587c2"
      },
      "outputs": [
        {
          "data": {
            "application/vnd.google.colaboratory.intrinsic+json": {
              "summary": "{\n  \"name\": \"df\",\n  \"rows\": 272,\n  \"fields\": [\n    {\n      \"column\": \"eruptions\",\n      \"properties\": {\n        \"dtype\": \"number\",\n        \"std\": 1.141371251105208,\n        \"min\": 1.6,\n        \"max\": 5.1,\n        \"num_unique_values\": 126,\n        \"samples\": [\n          4.733,\n          1.967,\n          1.85\n        ],\n        \"semantic_type\": \"\",\n        \"description\": \"\"\n      }\n    },\n    {\n      \"column\": \"waiting\",\n      \"properties\": {\n        \"dtype\": \"number\",\n        \"std\": 13,\n        \"min\": 43,\n        \"max\": 96,\n        \"num_unique_values\": 51,\n        \"samples\": [\n          96,\n          87,\n          68\n        ],\n        \"semantic_type\": \"\",\n        \"description\": \"\"\n      }\n    }\n  ]\n}",
              "type": "dataframe",
              "variable_name": "df"
            },
            "text/html": [
              "\n",
              "  <div id=\"df-35d3ccf1-b742-40e7-92b3-8f17dd483373\" class=\"colab-df-container\">\n",
              "    <div>\n",
              "<style scoped>\n",
              "    .dataframe tbody tr th:only-of-type {\n",
              "        vertical-align: middle;\n",
              "    }\n",
              "\n",
              "    .dataframe tbody tr th {\n",
              "        vertical-align: top;\n",
              "    }\n",
              "\n",
              "    .dataframe thead th {\n",
              "        text-align: right;\n",
              "    }\n",
              "</style>\n",
              "<table border=\"1\" class=\"dataframe\">\n",
              "  <thead>\n",
              "    <tr style=\"text-align: right;\">\n",
              "      <th></th>\n",
              "      <th>eruptions</th>\n",
              "      <th>waiting</th>\n",
              "    </tr>\n",
              "  </thead>\n",
              "  <tbody>\n",
              "    <tr>\n",
              "      <th>0</th>\n",
              "      <td>3.600</td>\n",
              "      <td>79</td>\n",
              "    </tr>\n",
              "    <tr>\n",
              "      <th>1</th>\n",
              "      <td>1.800</td>\n",
              "      <td>54</td>\n",
              "    </tr>\n",
              "    <tr>\n",
              "      <th>2</th>\n",
              "      <td>3.333</td>\n",
              "      <td>74</td>\n",
              "    </tr>\n",
              "    <tr>\n",
              "      <th>3</th>\n",
              "      <td>2.283</td>\n",
              "      <td>62</td>\n",
              "    </tr>\n",
              "    <tr>\n",
              "      <th>4</th>\n",
              "      <td>4.533</td>\n",
              "      <td>85</td>\n",
              "    </tr>\n",
              "    <tr>\n",
              "      <th>...</th>\n",
              "      <td>...</td>\n",
              "      <td>...</td>\n",
              "    </tr>\n",
              "    <tr>\n",
              "      <th>267</th>\n",
              "      <td>4.117</td>\n",
              "      <td>81</td>\n",
              "    </tr>\n",
              "    <tr>\n",
              "      <th>268</th>\n",
              "      <td>2.150</td>\n",
              "      <td>46</td>\n",
              "    </tr>\n",
              "    <tr>\n",
              "      <th>269</th>\n",
              "      <td>4.417</td>\n",
              "      <td>90</td>\n",
              "    </tr>\n",
              "    <tr>\n",
              "      <th>270</th>\n",
              "      <td>1.817</td>\n",
              "      <td>46</td>\n",
              "    </tr>\n",
              "    <tr>\n",
              "      <th>271</th>\n",
              "      <td>4.467</td>\n",
              "      <td>74</td>\n",
              "    </tr>\n",
              "  </tbody>\n",
              "</table>\n",
              "<p>272 rows × 2 columns</p>\n",
              "</div>\n",
              "    <div class=\"colab-df-buttons\">\n",
              "\n",
              "  <div class=\"colab-df-container\">\n",
              "    <button class=\"colab-df-convert\" onclick=\"convertToInteractive('df-35d3ccf1-b742-40e7-92b3-8f17dd483373')\"\n",
              "            title=\"Convert this dataframe to an interactive table.\"\n",
              "            style=\"display:none;\">\n",
              "\n",
              "  <svg xmlns=\"http://www.w3.org/2000/svg\" height=\"24px\" viewBox=\"0 -960 960 960\">\n",
              "    <path d=\"M120-120v-720h720v720H120Zm60-500h600v-160H180v160Zm220 220h160v-160H400v160Zm0 220h160v-160H400v160ZM180-400h160v-160H180v160Zm440 0h160v-160H620v160ZM180-180h160v-160H180v160Zm440 0h160v-160H620v160Z\"/>\n",
              "  </svg>\n",
              "    </button>\n",
              "\n",
              "  <style>\n",
              "    .colab-df-container {\n",
              "      display:flex;\n",
              "      gap: 12px;\n",
              "    }\n",
              "\n",
              "    .colab-df-convert {\n",
              "      background-color: #E8F0FE;\n",
              "      border: none;\n",
              "      border-radius: 50%;\n",
              "      cursor: pointer;\n",
              "      display: none;\n",
              "      fill: #1967D2;\n",
              "      height: 32px;\n",
              "      padding: 0 0 0 0;\n",
              "      width: 32px;\n",
              "    }\n",
              "\n",
              "    .colab-df-convert:hover {\n",
              "      background-color: #E2EBFA;\n",
              "      box-shadow: 0px 1px 2px rgba(60, 64, 67, 0.3), 0px 1px 3px 1px rgba(60, 64, 67, 0.15);\n",
              "      fill: #174EA6;\n",
              "    }\n",
              "\n",
              "    .colab-df-buttons div {\n",
              "      margin-bottom: 4px;\n",
              "    }\n",
              "\n",
              "    [theme=dark] .colab-df-convert {\n",
              "      background-color: #3B4455;\n",
              "      fill: #D2E3FC;\n",
              "    }\n",
              "\n",
              "    [theme=dark] .colab-df-convert:hover {\n",
              "      background-color: #434B5C;\n",
              "      box-shadow: 0px 1px 3px 1px rgba(0, 0, 0, 0.15);\n",
              "      filter: drop-shadow(0px 1px 2px rgba(0, 0, 0, 0.3));\n",
              "      fill: #FFFFFF;\n",
              "    }\n",
              "  </style>\n",
              "\n",
              "    <script>\n",
              "      const buttonEl =\n",
              "        document.querySelector('#df-35d3ccf1-b742-40e7-92b3-8f17dd483373 button.colab-df-convert');\n",
              "      buttonEl.style.display =\n",
              "        google.colab.kernel.accessAllowed ? 'block' : 'none';\n",
              "\n",
              "      async function convertToInteractive(key) {\n",
              "        const element = document.querySelector('#df-35d3ccf1-b742-40e7-92b3-8f17dd483373');\n",
              "        const dataTable =\n",
              "          await google.colab.kernel.invokeFunction('convertToInteractive',\n",
              "                                                    [key], {});\n",
              "        if (!dataTable) return;\n",
              "\n",
              "        const docLinkHtml = 'Like what you see? Visit the ' +\n",
              "          '<a target=\"_blank\" href=https://colab.research.google.com/notebooks/data_table.ipynb>data table notebook</a>'\n",
              "          + ' to learn more about interactive tables.';\n",
              "        element.innerHTML = '';\n",
              "        dataTable['output_type'] = 'display_data';\n",
              "        await google.colab.output.renderOutput(dataTable, element);\n",
              "        const docLink = document.createElement('div');\n",
              "        docLink.innerHTML = docLinkHtml;\n",
              "        element.appendChild(docLink);\n",
              "      }\n",
              "    </script>\n",
              "  </div>\n",
              "\n",
              "\n",
              "<div id=\"df-98494e0d-67f3-432d-8920-b68451241733\">\n",
              "  <button class=\"colab-df-quickchart\" onclick=\"quickchart('df-98494e0d-67f3-432d-8920-b68451241733')\"\n",
              "            title=\"Suggest charts\"\n",
              "            style=\"display:none;\">\n",
              "\n",
              "<svg xmlns=\"http://www.w3.org/2000/svg\" height=\"24px\"viewBox=\"0 0 24 24\"\n",
              "     width=\"24px\">\n",
              "    <g>\n",
              "        <path d=\"M19 3H5c-1.1 0-2 .9-2 2v14c0 1.1.9 2 2 2h14c1.1 0 2-.9 2-2V5c0-1.1-.9-2-2-2zM9 17H7v-7h2v7zm4 0h-2V7h2v10zm4 0h-2v-4h2v4z\"/>\n",
              "    </g>\n",
              "</svg>\n",
              "  </button>\n",
              "\n",
              "<style>\n",
              "  .colab-df-quickchart {\n",
              "      --bg-color: #E8F0FE;\n",
              "      --fill-color: #1967D2;\n",
              "      --hover-bg-color: #E2EBFA;\n",
              "      --hover-fill-color: #174EA6;\n",
              "      --disabled-fill-color: #AAA;\n",
              "      --disabled-bg-color: #DDD;\n",
              "  }\n",
              "\n",
              "  [theme=dark] .colab-df-quickchart {\n",
              "      --bg-color: #3B4455;\n",
              "      --fill-color: #D2E3FC;\n",
              "      --hover-bg-color: #434B5C;\n",
              "      --hover-fill-color: #FFFFFF;\n",
              "      --disabled-bg-color: #3B4455;\n",
              "      --disabled-fill-color: #666;\n",
              "  }\n",
              "\n",
              "  .colab-df-quickchart {\n",
              "    background-color: var(--bg-color);\n",
              "    border: none;\n",
              "    border-radius: 50%;\n",
              "    cursor: pointer;\n",
              "    display: none;\n",
              "    fill: var(--fill-color);\n",
              "    height: 32px;\n",
              "    padding: 0;\n",
              "    width: 32px;\n",
              "  }\n",
              "\n",
              "  .colab-df-quickchart:hover {\n",
              "    background-color: var(--hover-bg-color);\n",
              "    box-shadow: 0 1px 2px rgba(60, 64, 67, 0.3), 0 1px 3px 1px rgba(60, 64, 67, 0.15);\n",
              "    fill: var(--button-hover-fill-color);\n",
              "  }\n",
              "\n",
              "  .colab-df-quickchart-complete:disabled,\n",
              "  .colab-df-quickchart-complete:disabled:hover {\n",
              "    background-color: var(--disabled-bg-color);\n",
              "    fill: var(--disabled-fill-color);\n",
              "    box-shadow: none;\n",
              "  }\n",
              "\n",
              "  .colab-df-spinner {\n",
              "    border: 2px solid var(--fill-color);\n",
              "    border-color: transparent;\n",
              "    border-bottom-color: var(--fill-color);\n",
              "    animation:\n",
              "      spin 1s steps(1) infinite;\n",
              "  }\n",
              "\n",
              "  @keyframes spin {\n",
              "    0% {\n",
              "      border-color: transparent;\n",
              "      border-bottom-color: var(--fill-color);\n",
              "      border-left-color: var(--fill-color);\n",
              "    }\n",
              "    20% {\n",
              "      border-color: transparent;\n",
              "      border-left-color: var(--fill-color);\n",
              "      border-top-color: var(--fill-color);\n",
              "    }\n",
              "    30% {\n",
              "      border-color: transparent;\n",
              "      border-left-color: var(--fill-color);\n",
              "      border-top-color: var(--fill-color);\n",
              "      border-right-color: var(--fill-color);\n",
              "    }\n",
              "    40% {\n",
              "      border-color: transparent;\n",
              "      border-right-color: var(--fill-color);\n",
              "      border-top-color: var(--fill-color);\n",
              "    }\n",
              "    60% {\n",
              "      border-color: transparent;\n",
              "      border-right-color: var(--fill-color);\n",
              "    }\n",
              "    80% {\n",
              "      border-color: transparent;\n",
              "      border-right-color: var(--fill-color);\n",
              "      border-bottom-color: var(--fill-color);\n",
              "    }\n",
              "    90% {\n",
              "      border-color: transparent;\n",
              "      border-bottom-color: var(--fill-color);\n",
              "    }\n",
              "  }\n",
              "</style>\n",
              "\n",
              "  <script>\n",
              "    async function quickchart(key) {\n",
              "      const quickchartButtonEl =\n",
              "        document.querySelector('#' + key + ' button');\n",
              "      quickchartButtonEl.disabled = true;  // To prevent multiple clicks.\n",
              "      quickchartButtonEl.classList.add('colab-df-spinner');\n",
              "      try {\n",
              "        const charts = await google.colab.kernel.invokeFunction(\n",
              "            'suggestCharts', [key], {});\n",
              "      } catch (error) {\n",
              "        console.error('Error during call to suggestCharts:', error);\n",
              "      }\n",
              "      quickchartButtonEl.classList.remove('colab-df-spinner');\n",
              "      quickchartButtonEl.classList.add('colab-df-quickchart-complete');\n",
              "    }\n",
              "    (() => {\n",
              "      let quickchartButtonEl =\n",
              "        document.querySelector('#df-98494e0d-67f3-432d-8920-b68451241733 button');\n",
              "      quickchartButtonEl.style.display =\n",
              "        google.colab.kernel.accessAllowed ? 'block' : 'none';\n",
              "    })();\n",
              "  </script>\n",
              "</div>\n",
              "\n",
              "  <div id=\"id_d96fc653-7ed9-49ad-868c-e18c264ca69a\">\n",
              "    <style>\n",
              "      .colab-df-generate {\n",
              "        background-color: #E8F0FE;\n",
              "        border: none;\n",
              "        border-radius: 50%;\n",
              "        cursor: pointer;\n",
              "        display: none;\n",
              "        fill: #1967D2;\n",
              "        height: 32px;\n",
              "        padding: 0 0 0 0;\n",
              "        width: 32px;\n",
              "      }\n",
              "\n",
              "      .colab-df-generate:hover {\n",
              "        background-color: #E2EBFA;\n",
              "        box-shadow: 0px 1px 2px rgba(60, 64, 67, 0.3), 0px 1px 3px 1px rgba(60, 64, 67, 0.15);\n",
              "        fill: #174EA6;\n",
              "      }\n",
              "\n",
              "      [theme=dark] .colab-df-generate {\n",
              "        background-color: #3B4455;\n",
              "        fill: #D2E3FC;\n",
              "      }\n",
              "\n",
              "      [theme=dark] .colab-df-generate:hover {\n",
              "        background-color: #434B5C;\n",
              "        box-shadow: 0px 1px 3px 1px rgba(0, 0, 0, 0.15);\n",
              "        filter: drop-shadow(0px 1px 2px rgba(0, 0, 0, 0.3));\n",
              "        fill: #FFFFFF;\n",
              "      }\n",
              "    </style>\n",
              "    <button class=\"colab-df-generate\" onclick=\"generateWithVariable('df')\"\n",
              "            title=\"Generate code using this dataframe.\"\n",
              "            style=\"display:none;\">\n",
              "\n",
              "  <svg xmlns=\"http://www.w3.org/2000/svg\" height=\"24px\"viewBox=\"0 0 24 24\"\n",
              "       width=\"24px\">\n",
              "    <path d=\"M7,19H8.4L18.45,9,17,7.55,7,17.6ZM5,21V16.75L18.45,3.32a2,2,0,0,1,2.83,0l1.4,1.43a1.91,1.91,0,0,1,.58,1.4,1.91,1.91,0,0,1-.58,1.4L9.25,21ZM18.45,9,17,7.55Zm-12,3A5.31,5.31,0,0,0,4.9,8.1,5.31,5.31,0,0,0,1,6.5,5.31,5.31,0,0,0,4.9,4.9,5.31,5.31,0,0,0,6.5,1,5.31,5.31,0,0,0,8.1,4.9,5.31,5.31,0,0,0,12,6.5,5.46,5.46,0,0,0,6.5,12Z\"/>\n",
              "  </svg>\n",
              "    </button>\n",
              "    <script>\n",
              "      (() => {\n",
              "      const buttonEl =\n",
              "        document.querySelector('#id_d96fc653-7ed9-49ad-868c-e18c264ca69a button.colab-df-generate');\n",
              "      buttonEl.style.display =\n",
              "        google.colab.kernel.accessAllowed ? 'block' : 'none';\n",
              "\n",
              "      buttonEl.onclick = () => {\n",
              "        google.colab.notebook.generateWithVariable('df');\n",
              "      }\n",
              "      })();\n",
              "    </script>\n",
              "  </div>\n",
              "\n",
              "    </div>\n",
              "  </div>\n"
            ],
            "text/plain": [
              "     eruptions  waiting\n",
              "0        3.600       79\n",
              "1        1.800       54\n",
              "2        3.333       74\n",
              "3        2.283       62\n",
              "4        4.533       85\n",
              "..         ...      ...\n",
              "267      4.117       81\n",
              "268      2.150       46\n",
              "269      4.417       90\n",
              "270      1.817       46\n",
              "271      4.467       74\n",
              "\n",
              "[272 rows x 2 columns]"
            ]
          },
          "execution_count": 34,
          "metadata": {},
          "output_type": "execute_result"
        }
      ],
      "source": [
        "df"
      ]
    },
    {
      "cell_type": "markdown",
      "metadata": {
        "id": "5LoKRN7ntw8W"
      },
      "source": [
        "## Data cleaning"
      ]
    },
    {
      "cell_type": "code",
      "execution_count": null,
      "metadata": {
        "id": "_znO2oodsKiM"
      },
      "outputs": [],
      "source": [
        "#Clean\n",
        "#missing values - No\n",
        "#outliers - NO\n",
        "#duplicates - yes, removed\n",
        "#structured data  - yes\n",
        "#correct format - yes"
      ]
    },
    {
      "cell_type": "code",
      "execution_count": null,
      "metadata": {
        "colab": {
          "base_uri": "https://localhost:8080/"
        },
        "id": "3Dre0u6PusW2",
        "outputId": "3447195a-7365-4dd5-9b31-c40837acff9e"
      },
      "outputs": [
        {
          "data": {
            "text/plain": [
              "eruptions    0\n",
              "waiting      0\n",
              "dtype: int64"
            ]
          },
          "execution_count": 36,
          "metadata": {},
          "output_type": "execute_result"
        }
      ],
      "source": [
        "df.isna().sum()"
      ]
    },
    {
      "cell_type": "code",
      "execution_count": null,
      "metadata": {
        "colab": {
          "base_uri": "https://localhost:8080/"
        },
        "id": "QMAViJ-vusZj",
        "outputId": "7f5cac36-560b-4e85-c4e4-94ef25953ae5"
      },
      "outputs": [
        {
          "data": {
            "text/plain": [
              "(256, 2)"
            ]
          },
          "execution_count": 37,
          "metadata": {},
          "output_type": "execute_result"
        }
      ],
      "source": [
        "df = df.drop_duplicates()\n",
        "df.shape"
      ]
    },
    {
      "cell_type": "code",
      "execution_count": null,
      "metadata": {
        "colab": {
          "base_uri": "https://localhost:8080/"
        },
        "id": "Uf7JOpolusdB",
        "outputId": "09c7f598-dac1-4c1e-f16c-e0bf7dcfc0a4"
      },
      "outputs": [
        {
          "data": {
            "text/plain": [
              "eruptions    float64\n",
              "waiting        int64\n",
              "dtype: object"
            ]
          },
          "execution_count": 38,
          "metadata": {},
          "output_type": "execute_result"
        }
      ],
      "source": [
        "df.dtypes"
      ]
    },
    {
      "cell_type": "code",
      "execution_count": null,
      "metadata": {
        "colab": {
          "base_uri": "https://localhost:8080/"
        },
        "id": "3d_ahaGxvYMc",
        "outputId": "34a8b9fa-a573-4dd2-d45c-f61b0e736fd5"
      },
      "outputs": [
        {
          "name": "stderr",
          "output_type": "stream",
          "text": [
            "<ipython-input-39-e5303064bd7a>:6: SettingWithCopyWarning: \n",
            "A value is trying to be set on a copy of a slice from a DataFrame.\n",
            "Try using .loc[row_indexer,col_indexer] = value instead\n",
            "\n",
            "See the caveats in the documentation: https://pandas.pydata.org/pandas-docs/stable/user_guide/indexing.html#returning-a-view-versus-a-copy\n",
            "  df[column] = df[column].clip(lower_threshold,upper_threshold)\n",
            "<ipython-input-39-e5303064bd7a>:6: SettingWithCopyWarning: \n",
            "A value is trying to be set on a copy of a slice from a DataFrame.\n",
            "Try using .loc[row_indexer,col_indexer] = value instead\n",
            "\n",
            "See the caveats in the documentation: https://pandas.pydata.org/pandas-docs/stable/user_guide/indexing.html#returning-a-view-versus-a-copy\n",
            "  df[column] = df[column].clip(lower_threshold,upper_threshold)\n"
          ]
        }
      ],
      "source": [
        "for column in df.columns:\n",
        "  iqr: float = df[column].quantile(0.75) - df[column].quantile(0.25)\n",
        "\n",
        "  upper_threshold: float = df[column].quantile(0.75) + (1.5*iqr)\n",
        "  lower_threshold : float= df[column].quantile(0.25) - (1.5*iqr)\n",
        "  df[column] = df[column].clip(lower_threshold,upper_threshold)\n"
      ]
    },
    {
      "cell_type": "code",
      "execution_count": null,
      "metadata": {
        "id": "vkYKOxMZwWH2"
      },
      "outputs": [],
      "source": []
    },
    {
      "cell_type": "markdown",
      "metadata": {
        "id": "wRxqVm-2w3y0"
      },
      "source": [
        "## EDA"
      ]
    },
    {
      "cell_type": "code",
      "execution_count": null,
      "metadata": {
        "colab": {
          "base_uri": "https://localhost:8080/",
          "height": 466
        },
        "id": "w-UPHgwjw54y",
        "outputId": "80a178d2-6ce0-4753-8a0b-19e7e0c5b6f9"
      },
      "outputs": [
        {
          "data": {
            "text/plain": [
              "<Axes: xlabel='waiting', ylabel='eruptions'>"
            ]
          },
          "execution_count": 40,
          "metadata": {},
          "output_type": "execute_result"
        },
        {
          "data": {
            "image/png": "[encoded data removed]",
            "text/plain": [
              "<Figure size 640x480 with 1 Axes>"
            ]
          },
          "metadata": {},
          "output_type": "display_data"
        }
      ],
      "source": [
        "df.plot.scatter(x='waiting',y='eruptions')"
      ]
    },
    {
      "cell_type": "code",
      "execution_count": null,
      "metadata": {
        "id": "bP9tPoWLxGbL"
      },
      "outputs": [],
      "source": []
    },
    {
      "cell_type": "markdown",
      "metadata": {
        "id": "YAYAFAufxWYP"
      },
      "source": [
        "## Encode - No(Both my data are in continuos)"
      ]
    },
    {
      "cell_type": "code",
      "execution_count": null,
      "metadata": {
        "id": "JWwCAKusxcST"
      },
      "outputs": [],
      "source": []
    },
    {
      "cell_type": "markdown",
      "metadata": {
        "id": "kCswls8-xduJ"
      },
      "source": [
        "## Split - Not mandatory"
      ]
    },
    {
      "cell_type": "code",
      "execution_count": null,
      "metadata": {
        "id": "MKuZhgbFxiUA"
      },
      "outputs": [],
      "source": []
    },
    {
      "cell_type": "markdown",
      "metadata": {
        "id": "RNaKtJUKxlTj"
      },
      "source": [
        "## Scaling"
      ]
    },
    {
      "cell_type": "code",
      "execution_count": null,
      "metadata": {
        "id": "PaWS-wE0xnfY"
      },
      "outputs": [],
      "source": [
        "from sklearn.preprocessing import StandardScaler\n",
        "scaler = StandardScaler()\n",
        "scaler.fit(df)\n",
        "X=scaler.transform(df)"
      ]
    },
    {
      "cell_type": "code",
      "execution_count": null,
      "metadata": {
        "colab": {
          "base_uri": "https://localhost:8080/"
        },
        "id": "bTfNLVOgyB1_",
        "outputId": "9a829c90-65e2-41d1-cbf8-631801b3d018"
      },
      "outputs": [
        {
          "data": {
            "text/plain": [
              "array([[ 8.98507368e-02,  5.89639886e-01],\n",
              "       [-1.50638720e+00, -1.26749361e+00],\n",
              "       [-1.46924557e-01,  2.18213186e-01],\n",
              "       [-1.07806335e+00, -6.73210894e-01],\n",
              "       [ 9.17234065e-01,  1.03535193e+00],\n",
              "       [-5.45984040e-01, -1.19320827e+00],\n",
              "       [ 1.06532947e+00,  1.25820795e+00],\n",
              "       [ 8.98507368e-02,  1.03535193e+00],\n",
              "       [-1.37336737e+00, -1.49034963e+00],\n",
              "       [ 7.54949876e-01,  1.03535193e+00],\n",
              "       [-1.47712283e+00, -1.26749361e+00],\n",
              "       [ 3.70965973e-01,  9.61066586e-01],\n",
              "       [ 6.21930048e-01,  5.15354546e-01],\n",
              "       [-1.55072714e+00, -1.78749099e+00],\n",
              "       [ 1.06532947e+00,  8.86781246e-01],\n",
              "       [-1.18093202e+00, -1.41606429e+00],\n",
              "       [-1.55072714e+00, -6.73210894e-01],\n",
              "       [ 1.15400936e+00,  9.61066586e-01],\n",
              "       [-1.68374697e+00, -1.41606429e+00],\n",
              "       [ 6.66269990e-01,  5.89639886e-01],\n",
              "       [-1.50638720e+00, -1.49034963e+00],\n",
              "       [-4.31690910e-02,  5.15354546e-01],\n",
              "       [-3.82813051e-01, -1.53213514e-01],\n",
              "       [ 9.17234065e-01,  2.18213186e-01],\n",
              "       [ 8.98507368e-02,  8.86781246e-01],\n",
              "       [-1.35829179e+00, -1.19320827e+00],\n",
              "       [ 5.18174582e-01,  3.66783866e-01],\n",
              "       [ 3.11550450e-01,  5.15354546e-01],\n",
              "       [ 8.28554180e-01,  5.89639886e-01],\n",
              "       [ 7.10609933e-01,  1.43927846e-01],\n",
              "       [ 8.58705341e-01,  4.41069206e-01],\n",
              "       [-1.16773396e-01, -3.76069534e-01],\n",
              "       [ 4.73834640e-01,  6.63925226e-01],\n",
              "       [ 2.96474869e-01,  2.18213186e-01],\n",
              "       [-1.31395185e+00, -1.41606429e+00],\n",
              "       [-1.44697167e+00, -1.71320565e+00],\n",
              "       [ 1.18327372e+00,  6.63925226e-01],\n",
              "       [-1.47712283e+00, -8.96066914e-01],\n",
              "       [ 1.13893378e+00,  1.40677863e+00],\n",
              "       [ 7.54949876e-01,  6.63925226e-01],\n",
              "       [-1.43278289e+00, -9.70352254e-01],\n",
              "       [ 9.47385226e-01,  9.61066586e-01],\n",
              "       [-1.55072714e+00, -9.70352254e-01],\n",
              "       [ 9.17234065e-01,  1.43927846e-01],\n",
              "       [-1.61113338e-01,  8.86781246e-01],\n",
              "       [ 2.96474869e-01, -5.24640214e-01],\n",
              "       [-1.24034754e+00, -1.34177895e+00],\n",
              "       [ 1.00591395e+00,  8.12495906e-01],\n",
              "       [-1.32902743e+00, -8.96066914e-01],\n",
              "       [ 1.15400936e+00,  2.92498526e-01],\n",
              "       [ 1.07951826e+00,  1.40677863e+00],\n",
              "       [-1.56580272e+00, -1.26749361e+00],\n",
              "       [ 1.22761366e+00,  8.86781246e-01],\n",
              "       [ 1.93606202e-01, -4.64283375e-03],\n",
              "       [-1.62433144e+00, -5.24640214e-01],\n",
              "       [ 9.47385226e-01,  4.41069206e-01],\n",
              "       [ 7.25685513e-01,  7.38210566e-01],\n",
              "       [-1.12240329e+00, -8.96066914e-01],\n",
              "       [ 8.87969703e-01,  9.61066586e-01],\n",
              "       [-1.55072714e+00, -1.71320565e+00],\n",
              "       [ 1.15400936e+00,  8.12495906e-01],\n",
              "       [-1.49131162e+00, -8.21781574e-01],\n",
              "       [ 7.99289818e-01,  1.55534931e+00],\n",
              "       [ 5.92665686e-01,  5.15354546e-01],\n",
              "       [ 1.06532947e+00,  5.15354546e-01],\n",
              "       [-1.26961190e+00, -4.50354874e-01],\n",
              "       [ 1.06532947e+00,  1.43927846e-01],\n",
              "       [ 4.73834640e-01,  8.12495906e-01],\n",
              "       [-1.35829179e+00, -1.11892293e+00],\n",
              "       [ 8.87969703e-01,  5.89639886e-01],\n",
              "       [ 4.44570277e-01, -4.64283375e-03],\n",
              "       [-1.34410301e+00, -6.73210894e-01],\n",
              "       [ 1.39078465e+00,  3.66783866e-01],\n",
              "       [-1.31395185e+00, -8.21781574e-01],\n",
              "       [ 9.47385226e-01,  5.15354546e-01],\n",
              "       [ 3.40814812e-01,  3.66783866e-01],\n",
              "       [ 5.62514525e-01,  2.92498526e-01],\n",
              "       [ 7.39874295e-01,  8.12495906e-01],\n",
              "       [ 5.33250163e-01, -7.89281738e-02],\n",
              "       [-7.67683753e-01, -4.50354874e-01],\n",
              "       [ 5.03985801e-01,  1.43927846e-01],\n",
              "       [ 1.27195361e+00,  1.25820795e+00],\n",
              "       [ 4.00230335e-01,  3.66783866e-01],\n",
              "       [ 9.03045284e-01,  6.63925226e-01],\n",
              "       [-1.18093202e+00, -1.71320565e+00],\n",
              "       [ 4.44570277e-01,  1.10963727e+00],\n",
              "       [-1.15166766e+00, -8.21781574e-01],\n",
              "       [ 7.39874295e-01,  1.40677863e+00],\n",
              "       [-1.44697167e+00, -1.56463497e+00],\n",
              "       [ 1.16908494e+00,  5.15354546e-01],\n",
              "       [-1.47712283e+00, -5.98925554e-01],\n",
              "       [ 7.10609933e-01,  6.96425063e-02],\n",
              "       [ 1.03606511e+00,  9.61066586e-01],\n",
              "       [ 2.22870565e-01,  2.92498526e-01],\n",
              "       [-1.44697167e+00, -1.49034963e+00],\n",
              "       [ 1.24268924e+00,  8.12495906e-01],\n",
              "       [-9.00703581e-01, -6.73210894e-01],\n",
              "       [ 7.70025456e-01,  1.25820795e+00],\n",
              "       [-1.24034754e+00, -1.63892031e+00],\n",
              "       [ 8.87969703e-01,  8.86781246e-01],\n",
              "       [ 4.88910220e-01,  7.38210566e-01],\n",
              "       [-1.44697167e+00, -1.78749099e+00],\n",
              "       [ 1.06532947e+00,  9.61066586e-01],\n",
              "       [-1.52146278e+00, -1.41606429e+00],\n",
              "       [ 1.19834930e+00,  1.10963727e+00],\n",
              "       [ 1.63455041e-01,  7.38210566e-01],\n",
              "       [ 1.09459384e+00,  2.92498526e-01],\n",
              "       [-1.06298777e+00, -8.96066914e-01],\n",
              "       [ 1.24268924e+00,  1.33249329e+00],\n",
              "       [ 8.14365399e-01,  5.89639886e-01],\n",
              "       [-1.59506708e+00, -8.96066914e-01],\n",
              "       [ 1.00591395e+00,  7.38210566e-01],\n",
              "       [-1.04791219e+00, -1.56463497e+00],\n",
              "       [ 9.76649589e-01,  1.03535193e+00],\n",
              "       [-1.49131162e+00, -8.96066914e-01],\n",
              "       [ 8.14365399e-01,  1.18392261e+00],\n",
              "       [-7.81872534e-01, -1.34177895e+00],\n",
              "       [ 5.03985801e-01, -1.53213514e-01],\n",
              "       [ 6.66269990e-01,  4.41069206e-01],\n",
              "       [ 9.76649589e-01,  1.25820795e+00],\n",
              "       [ 2.37946145e-01,  7.38210566e-01],\n",
              "       [-1.40263173e+00, -1.93606167e+00],\n",
              "       [ 8.87969703e-01,  8.12495906e-01],\n",
              "       [-1.09225213e+00, -1.19320827e+00],\n",
              "       [ 1.02098953e+00,  1.40677863e+00],\n",
              "       [-1.44697167e+00, -1.93606167e+00],\n",
              "       [ 5.92665686e-01,  8.86781246e-01],\n",
              "       [-6.19588345e-01, -1.11892293e+00],\n",
              "       [ 7.39874295e-01,  1.33249329e+00],\n",
              "       [-1.47712283e+00, -1.86177633e+00],\n",
              "       [ 7.84214238e-01,  8.12495906e-01],\n",
              "       [-1.43278289e+00, -1.49034963e+00],\n",
              "       [ 1.27195361e+00,  1.10963727e+00],\n",
              "       [-1.29976306e+00, -1.34177895e+00],\n",
              "       [ 2.07794984e-01,  5.89639886e-01],\n",
              "       [ 6.51194410e-01,  7.38210566e-01],\n",
              "       [-1.12240329e+00, -8.21781574e-01],\n",
              "       [ 9.17234065e-01,  8.12495906e-01],\n",
              "       [ 1.16908494e+00,  4.41069206e-01],\n",
              "       [ 7.39874295e-01,  3.66783866e-01],\n",
              "       [-1.34410301e+00, -8.96066914e-01],\n",
              "       [ 1.00591395e+00,  6.63925226e-01],\n",
              "       [-1.31395185e+00, -1.63892031e+00],\n",
              "       [ 1.42004901e+00,  1.85249067e+00],\n",
              "       [-1.50638720e+00, -1.34177895e+00],\n",
              "       [ 1.36063349e+00,  4.41069206e-01],\n",
              "       [ 4.44570277e-01,  4.41069206e-01],\n",
              "       [-9.74307885e-01, -4.50354874e-01],\n",
              "       [ 9.76649589e-01,  7.38210566e-01],\n",
              "       [ 6.05863747e-02, -4.64283375e-03],\n",
              "       [ 4.44570277e-01, -7.89281738e-02],\n",
              "       [ 8.87969703e-01,  7.38210566e-01],\n",
              "       [ 5.18174582e-01,  1.62963465e+00],\n",
              "       [ 4.15305915e-01,  1.33249329e+00],\n",
              "       [-1.15166766e+00, -1.93606167e+00],\n",
              "       [ 5.77590105e-01,  1.10963727e+00],\n",
              "       [-1.32902743e+00, -9.70352254e-01],\n",
              "       [ 2.96474869e-01,  5.15354546e-01],\n",
              "       [ 1.17085161e-03, -3.76069534e-01],\n",
              "       [ 9.61574008e-01,  3.66783866e-01],\n",
              "       [-1.00357225e+00, -5.98925554e-01],\n",
              "       [ 1.33136913e+00,  1.25820795e+00],\n",
              "       [-1.38844295e+00, -1.41606429e+00],\n",
              "       [ 9.91725169e-01,  1.62963465e+00],\n",
              "       [-1.40263173e+00, -1.63892031e+00],\n",
              "       [-1.25542312e+00, -1.04463759e+00],\n",
              "       [ 9.61574008e-01,  4.41069206e-01],\n",
              "       [-1.46924557e-01, -2.27498854e-01],\n",
              "       [ 5.92665686e-01,  7.38210566e-01],\n",
              "       [ 7.39874295e-01,  7.38210566e-01],\n",
              "       [ 8.87969703e-01,  1.43927846e-01],\n",
              "       [-9.59232305e-01, -1.56463497e+00],\n",
              "       [ 4.44570277e-01,  1.03535193e+00],\n",
              "       [ 5.92665686e-01,  2.18213186e-01],\n",
              "       [-1.43278289e+00, -1.19320827e+00],\n",
              "       [ 6.66269990e-01,  8.86781246e-01],\n",
              "       [ 2.37946145e-01,  8.86781246e-01],\n",
              "       [-1.29976306e+00, -1.49034963e+00],\n",
              "       [ 8.28554180e-01,  5.15354546e-01],\n",
              "       [ 5.18174582e-01,  9.61066586e-01],\n",
              "       [ 8.14365399e-01,  8.86781246e-01],\n",
              "       [-1.16674324e+00, -1.19320827e+00],\n",
              "       [ 1.15400936e+00,  7.38210566e-01],\n",
              "       [-1.47712283e+00, -1.04463759e+00],\n",
              "       [ 1.15400936e+00,  3.66783866e-01],\n",
              "       [ 5.33250163e-01,  9.61066586e-01],\n",
              "       [ 4.14419117e-01,  4.41069206e-01],\n",
              "       [ 1.17085161e-03,  1.18392261e+00],\n",
              "       [ 7.69138657e-01,  4.41069206e-01],\n",
              "       [-1.10732771e+00, -1.49034963e+00],\n",
              "       [ 1.03606511e+00,  5.15354546e-01],\n",
              "       [-1.24034754e+00, -8.21781574e-01],\n",
              "       [ 7.54949876e-01,  8.12495906e-01],\n",
              "       [ 5.62514525e-01,  1.48106397e+00],\n",
              "       [-1.44697167e+00, -1.34177895e+00],\n",
              "       [ 9.76649589e-01,  5.15354546e-01],\n",
              "       [-1.52146278e+00, -1.86177633e+00],\n",
              "       [ 7.70025456e-01,  4.41069206e-01],\n",
              "       [ 3.11550450e-01,  9.61066586e-01],\n",
              "       [-1.38844295e+00, -1.63892031e+00],\n",
              "       [-9.89383466e-01, -4.64283375e-03],\n",
              "       [ 1.06532947e+00,  6.63925226e-01],\n",
              "       [-1.44697167e+00, -1.63892031e+00],\n",
              "       [ 2.96474869e-01,  2.92498526e-01],\n",
              "       [-7.24334531e-02, -5.24640214e-01],\n",
              "       [ 6.51194410e-01,  3.66783866e-01],\n",
              "       [-9.74307885e-01, -1.34177895e+00],\n",
              "       [ 1.15400936e+00,  1.70391999e+00],\n",
              "       [-1.32902743e+00, -1.19320827e+00],\n",
              "       [ 5.77590105e-01,  3.66783866e-01],\n",
              "       [ 6.81345571e-01,  8.12495906e-01],\n",
              "       [-1.55072714e+00, -1.26749361e+00],\n",
              "       [ 8.72894123e-01,  2.92498526e-01],\n",
              "       [ 4.44570277e-01,  5.15354546e-01],\n",
              "       [ 5.48325743e-01,  5.89639886e-01],\n",
              "       [ 5.18174582e-01,  5.15354546e-01],\n",
              "       [ 6.81345571e-01,  5.15354546e-01],\n",
              "       [ 3.70965973e-01, -7.89281738e-02],\n",
              "       [ 9.32309646e-01,  5.89639886e-01],\n",
              "       [ 5.18174582e-01, -7.89281738e-02],\n",
              "       [-9.59232305e-01, -1.26749361e+00],\n",
              "       [ 6.06854467e-01,  1.10963727e+00],\n",
              "       [-1.13659208e+00, -1.56463497e+00],\n",
              "       [ 8.43629761e-01,  1.40677863e+00],\n",
              "       [-1.43278289e+00, -1.26749361e+00],\n",
              "       [-1.46204725e+00, -1.26749361e+00],\n",
              "       [ 6.95534353e-01,  4.41069206e-01],\n",
              "       [ 4.00230335e-01,  5.89639886e-01],\n",
              "       [-1.03372341e+00, -5.24640214e-01],\n",
              "       [ 5.77590105e-01,  2.92498526e-01],\n",
              "       [-1.01864783e+00, -1.78749099e+00],\n",
              "       [-5.30908459e-01, -5.98925554e-01],\n",
              "       [ 9.61574008e-01,  1.03535193e+00],\n",
              "       [ 2.96474869e-01,  8.12495906e-01],\n",
              "       [ 7.70025456e-01,  8.12495906e-01],\n",
              "       [-1.21108318e+00, -3.01784194e-01],\n",
              "       [ 7.54949876e-01,  2.18213186e-01],\n",
              "       [-1.15166766e+00, -1.26749361e+00],\n",
              "       [ 8.43629761e-01,  8.86781246e-01],\n",
              "       [ 6.05863747e-02,  1.43927846e-01],\n",
              "       [ 5.77590105e-01,  1.25820795e+00],\n",
              "       [ 2.82286088e-01,  6.63925226e-01],\n",
              "       [ 3.70965973e-01, -4.64283375e-03],\n",
              "       [-1.32902743e+00, -1.11892293e+00],\n",
              "       [ 6.95534353e-01,  5.89639886e-01],\n",
              "       [ 1.12474500e+00,  5.15354546e-01],\n",
              "       [ 9.17234065e-01,  9.61066586e-01],\n",
              "       [-1.46204725e+00, -9.70352254e-01],\n",
              "       [-1.34410301e+00, -2.08463235e+00],\n",
              "       [-1.10732771e+00, -8.21781574e-01],\n",
              "       [ 1.10966942e+00,  2.92498526e-01],\n",
              "       [ 5.48325743e-01,  7.38210566e-01],\n",
              "       [-1.19600760e+00, -1.86177633e+00],\n",
              "       [ 8.14365399e-01,  1.40677863e+00],\n",
              "       [-1.49131162e+00, -1.86177633e+00],\n",
              "       [ 8.58705341e-01,  2.18213186e-01]])"
            ]
          },
          "execution_count": 42,
          "metadata": {},
          "output_type": "execute_result"
        }
      ],
      "source": [
        "X"
      ]
    },
    {
      "cell_type": "code",
      "execution_count": null,
      "metadata": {
        "id": "BnrK27GgyGEy"
      },
      "outputs": [],
      "source": []
    },
    {
      "cell_type": "markdown",
      "metadata": {
        "id": "f3nDx3IOyT8x"
      },
      "source": [
        "## Model"
      ]
    },
    {
      "cell_type": "code",
      "execution_count": null,
      "metadata": {
        "colab": {
          "base_uri": "https://localhost:8080/"
        },
        "id": "5jKE6fHayVzT",
        "outputId": "08daac81-7337-4a59-cf3b-f09f2020e849"
      },
      "outputs": [
        {
          "name": "stderr",
          "output_type": "stream",
          "text": [
            "/usr/local/lib/python3.10/dist-packages/sklearn/cluster/_kmeans.py:870: FutureWarning: The default value of `n_init` will change from 10 to 'auto' in 1.4. Set the value of `n_init` explicitly to suppress the warning\n",
            "  warnings.warn(\n"
          ]
        },
        {
          "data": {
            "text/plain": [
              "array([0, 1, 0, 1, 0, 1, 0, 0, 1, 0, 1, 0, 0, 1, 0, 1, 1, 0, 1, 0, 1, 0,\n",
              "       0, 0, 0, 1, 0, 0, 0, 0, 0, 0, 0, 0, 1, 1, 0, 1, 0, 0, 1, 0, 1, 0,\n",
              "       0, 0, 1, 0, 1, 0, 0, 1, 0, 0, 1, 0, 0, 1, 0, 1, 0, 1, 0, 0, 0, 1,\n",
              "       0, 0, 1, 0, 0, 1, 0, 1, 0, 0, 0, 0, 0, 1, 0, 0, 0, 0, 1, 0, 1, 0,\n",
              "       1, 0, 1, 0, 0, 0, 1, 0, 1, 0, 1, 0, 0, 1, 0, 1, 0, 0, 0, 1, 0, 0,\n",
              "       1, 0, 1, 0, 1, 0, 1, 0, 0, 0, 0, 1, 0, 1, 0, 1, 0, 1, 0, 1, 0, 1,\n",
              "       0, 1, 0, 0, 1, 0, 0, 0, 1, 0, 1, 0, 1, 0, 0, 1, 0, 0, 0, 0, 0, 0,\n",
              "       1, 0, 1, 0, 0, 0, 1, 0, 1, 0, 1, 1, 0, 0, 0, 0, 0, 1, 0, 0, 1, 0,\n",
              "       0, 1, 0, 0, 0, 1, 0, 1, 0, 0, 0, 0, 0, 1, 0, 1, 0, 0, 1, 0, 1, 0,\n",
              "       0, 1, 1, 0, 1, 0, 1, 0, 1, 0, 1, 0, 0, 1, 0, 0, 0, 0, 0, 0, 0, 0,\n",
              "       1, 0, 1, 0, 1, 1, 0, 0, 1, 0, 1, 1, 0, 0, 0, 1, 0, 1, 0, 0, 0, 0,\n",
              "       0, 1, 0, 0, 0, 1, 1, 1, 0, 0, 1, 0, 1, 0], dtype=int32)"
            ]
          },
          "execution_count": 43,
          "metadata": {},
          "output_type": "execute_result"
        }
      ],
      "source": [
        "from sklearn.cluster import KMeans\n",
        "model = KMeans(n_clusters =2)\n",
        "model.fit(X)\n",
        "model.labels_"
      ]
    },
    {
      "cell_type": "code",
      "execution_count": null,
      "metadata": {
        "id": "dB1blDCl1y-X"
      },
      "outputs": [],
      "source": []
    },
    {
      "cell_type": "code",
      "execution_count": null,
      "metadata": {
        "colab": {
          "base_uri": "https://localhost:8080/"
        },
        "id": "GCjlU02Mya6k",
        "outputId": "64a2dc63-35d7-446e-c647-a8eed94168e9"
      },
      "outputs": [
        {
          "name": "stderr",
          "output_type": "stream",
          "text": [
            "<ipython-input-44-ec2794e30281>:1: SettingWithCopyWarning: \n",
            "A value is trying to be set on a copy of a slice from a DataFrame.\n",
            "Try using .loc[row_indexer,col_indexer] = value instead\n",
            "\n",
            "See the caveats in the documentation: https://pandas.pydata.org/pandas-docs/stable/user_guide/indexing.html#returning-a-view-versus-a-copy\n",
            "  df['clusters'] = model.labels_\n"
          ]
        }
      ],
      "source": [
        "df['clusters'] = model.labels_\n",
        "\n"
      ]
    },
    {
      "cell_type": "code",
      "execution_count": null,
      "metadata": {
        "colab": {
          "base_uri": "https://localhost:8080/",
          "height": 472
        },
        "id": "eMrUDI_NybAd",
        "outputId": "f3bef6b8-d44b-4f5b-d1a9-22438b136f21"
      },
      "outputs": [
        {
          "data": {
            "image/png": "[encoded data removed]",
            "text/plain": [
              "<Figure size 640x480 with 1 Axes>"
            ]
          },
          "metadata": {},
          "output_type": "display_data"
        }
      ],
      "source": [
        "import seaborn as sns\n",
        "sns.scatterplot(x='waiting',y='eruptions',hue='clusters',data =df)\n",
        "plt.title('Clusters')\n",
        "plt.xlabel('Waiting')\n",
        "plt.ylabel('Eruptions')\n",
        "plt.show()"
      ]
    },
    {
      "cell_type": "code",
      "execution_count": null,
      "metadata": {
        "colab": {
          "base_uri": "https://localhost:8080/"
        },
        "id": "ee_39FDNybFI",
        "outputId": "d9e2e71d-08a9-4ebf-bac5-1d86d9c92be0"
      },
      "outputs": [
        {
          "data": {
            "text/plain": [
              "78.02178667251049"
            ]
          },
          "execution_count": 47,
          "metadata": {},
          "output_type": "execute_result"
        }
      ],
      "source": [
        "model.inertia_"
      ]
    },
    {
      "cell_type": "markdown",
      "metadata": {
        "id": "skBN2NVf2w6M"
      },
      "source": [
        "### model with k-3"
      ]
    },
    {
      "cell_type": "code",
      "execution_count": null,
      "metadata": {
        "colab": {
          "base_uri": "https://localhost:8080/"
        },
        "id": "xC9CG5A6ybIg",
        "outputId": "193e80f4-0d1b-4c36-813a-a9ee1d832895"
      },
      "outputs": [
        {
          "name": "stderr",
          "output_type": "stream",
          "text": [
            "/usr/local/lib/python3.10/dist-packages/sklearn/cluster/_kmeans.py:870: FutureWarning: The default value of `n_init` will change from 10 to 'auto' in 1.4. Set the value of `n_init` explicitly to suppress the warning\n",
            "  warnings.warn(\n"
          ]
        },
        {
          "data": {
            "text/plain": [
              "array([2, 1, 2, 1, 0, 1, 0, 0, 1, 0, 1, 0, 2, 1, 0, 1, 1, 0, 1, 0, 1, 2,\n",
              "       2, 2, 2, 1, 2, 2, 0, 2, 0, 2, 2, 2, 1, 1, 0, 1, 0, 0, 1, 0, 1, 2,\n",
              "       2, 2, 1, 0, 1, 0, 0, 1, 0, 2, 1, 0, 0, 1, 0, 1, 0, 1, 0, 2, 0, 1,\n",
              "       2, 0, 1, 0, 2, 1, 0, 1, 0, 2, 2, 0, 2, 1, 2, 0, 2, 0, 1, 0, 1, 0,\n",
              "       1, 0, 1, 2, 0, 2, 1, 0, 1, 0, 1, 0, 0, 1, 0, 1, 0, 2, 0, 1, 0, 0,\n",
              "       1, 0, 1, 0, 1, 0, 1, 2, 2, 0, 2, 1, 0, 1, 0, 1, 0, 1, 0, 1, 0, 1,\n",
              "       0, 1, 2, 0, 1, 0, 0, 2, 1, 0, 1, 0, 1, 0, 2, 1, 0, 2, 2, 0, 0, 0,\n",
              "       1, 0, 1, 2, 2, 0, 1, 0, 1, 0, 1, 1, 0, 2, 0, 0, 2, 1, 0, 2, 1, 0,\n",
              "       0, 1, 0, 0, 0, 1, 0, 1, 0, 0, 2, 0, 2, 1, 0, 1, 0, 0, 1, 0, 1, 2,\n",
              "       0, 1, 1, 0, 1, 2, 2, 2, 1, 0, 1, 2, 0, 1, 2, 2, 2, 2, 2, 2, 0, 2,\n",
              "       1, 0, 1, 0, 1, 1, 2, 2, 1, 2, 1, 1, 0, 2, 0, 1, 2, 1, 0, 2, 0, 2,\n",
              "       2, 1, 0, 0, 0, 1, 1, 1, 0, 0, 1, 0, 1, 2], dtype=int32)"
            ]
          },
          "execution_count": 48,
          "metadata": {},
          "output_type": "execute_result"
        }
      ],
      "source": [
        "from sklearn.cluster import KMeans\n",
        "model = KMeans(n_clusters =3)\n",
        "model.fit(X)\n",
        "model.labels_"
      ]
    },
    {
      "cell_type": "code",
      "execution_count": null,
      "metadata": {
        "colab": {
          "base_uri": "https://localhost:8080/"
        },
        "id": "X_H1dCkBybLi",
        "outputId": "3d14018d-ee43-456d-e862-f94fa2ebe1f2"
      },
      "outputs": [
        {
          "name": "stderr",
          "output_type": "stream",
          "text": [
            "<ipython-input-49-87ad903ed26e>:1: SettingWithCopyWarning: \n",
            "A value is trying to be set on a copy of a slice from a DataFrame.\n",
            "Try using .loc[row_indexer,col_indexer] = value instead\n",
            "\n",
            "See the caveats in the documentation: https://pandas.pydata.org/pandas-docs/stable/user_guide/indexing.html#returning-a-view-versus-a-copy\n",
            "  df['clusters'] = model.labels_\n"
          ]
        }
      ],
      "source": [
        "df['clusters'] = model.labels_"
      ]
    },
    {
      "cell_type": "code",
      "execution_count": null,
      "metadata": {
        "colab": {
          "base_uri": "https://localhost:8080/",
          "height": 472
        },
        "id": "M-y0lZIEybOv",
        "outputId": "c1058e95-70f8-4a90-827e-d36229d8d4d8"
      },
      "outputs": [
        {
          "data": {
            "image/png": "[encoded data removed]",
            "text/plain": [
              "<Figure size 640x480 with 1 Axes>"
            ]
          },
          "metadata": {},
          "output_type": "display_data"
        }
      ],
      "source": [
        "import seaborn as sns\n",
        "sns.scatterplot(x='waiting',y='eruptions',hue='clusters',data =df)\n",
        "plt.title('Clusters')\n",
        "plt.xlabel('Waiting')\n",
        "plt.ylabel('Eruptions')\n",
        "plt.show()"
      ]
    },
    {
      "cell_type": "code",
      "execution_count": null,
      "metadata": {
        "colab": {
          "base_uri": "https://localhost:8080/"
        },
        "id": "OJoOmS2QybRW",
        "outputId": "62a07dfd-bbe5-4099-f565-563903c58c37"
      },
      "outputs": [
        {
          "data": {
            "text/plain": [
              "54.84820891481473"
            ]
          },
          "execution_count": 51,
          "metadata": {},
          "output_type": "execute_result"
        }
      ],
      "source": [
        "model.inertia_"
      ]
    },
    {
      "cell_type": "code",
      "execution_count": null,
      "metadata": {
        "id": "3FB1FJfnybUN"
      },
      "outputs": [],
      "source": []
    },
    {
      "cell_type": "markdown",
      "metadata": {
        "id": "DLWuCcXI3Vny"
      },
      "source": [
        "## Elbow plot"
      ]
    },
    {
      "cell_type": "code",
      "execution_count": null,
      "metadata": {
        "id": "tgTy98w93YSg"
      },
      "outputs": [],
      "source": [
        "inertias = []\n",
        "for k in range(1,10):\n",
        "  model = KMeans(n_clusters=k)\n",
        "  model.fit(X)\n",
        "  inertias.append(model.inertia_)"
      ]
    },
    {
      "cell_type": "code",
      "execution_count": null,
      "metadata": {
        "colab": {
          "base_uri": "https://localhost:8080/",
          "height": 447
        },
        "id": "2xEyFm3S3x7v",
        "outputId": "86e3f5a6-6592-4283-9930-0f8b7568bf9b"
      },
      "outputs": [
        {
          "data": {
            "text/plain": [
              "[<matplotlib.lines.Line2D at 0x7e6623e859f0>]"
            ]
          },
          "execution_count": 53,
          "metadata": {},
          "output_type": "execute_result"
        },
        {
          "data": {
            "image/png": "[encoded data removed]",
            "text/plain": [
              "<Figure size 640x480 with 1 Axes>"
            ]
          },
          "metadata": {},
          "output_type": "display_data"
        }
      ],
      "source": [
        "plt.plot(range(1,10),inertias)"
      ]
    },
    {
      "cell_type": "code",
      "execution_count": null,
      "metadata": {
        "id": "3lRei7a44B8g"
      },
      "outputs": [],
      "source": []
    },
    {
      "cell_type": "markdown",
      "metadata": {
        "id": "43KBQt8K4-ZB"
      },
      "source": [
        "##Educational prespective"
      ]
    },
    {
      "cell_type": "code",
      "execution_count": null,
      "metadata": {
        "colab": {
          "base_uri": "https://localhost:8080/"
        },
        "id": "JwCGJT-Y5I6h",
        "outputId": "baadae1f-24a9-4892-e023-9938f8c6e0b8"
      },
      "outputs": [
        {
          "name": "stderr",
          "output_type": "stream",
          "text": [
            "/usr/local/lib/python3.10/dist-packages/sklearn/cluster/_kmeans.py:870: FutureWarning: The default value of `n_init` will change from 10 to 'auto' in 1.4. Set the value of `n_init` explicitly to suppress the warning\n",
            "  warnings.warn(\n",
            "/usr/local/lib/python3.10/dist-packages/sklearn/cluster/_kmeans.py:870: FutureWarning: The default value of `n_init` will change from 10 to 'auto' in 1.4. Set the value of `n_init` explicitly to suppress the warning\n",
            "  warnings.warn(\n",
            "/usr/local/lib/python3.10/dist-packages/sklearn/cluster/_kmeans.py:870: FutureWarning: The default value of `n_init` will change from 10 to 'auto' in 1.4. Set the value of `n_init` explicitly to suppress the warning\n",
            "  warnings.warn(\n"
          ]
        },
        {
          "name": "stdout",
          "output_type": "stream",
          "text": [
            "Inertia:54.84820891481473\n",
            "Inertia:54.77691892913094\n",
            "Inertia:54.77691892913094\n"
          ]
        },
        {
          "name": "stderr",
          "output_type": "stream",
          "text": [
            "/usr/local/lib/python3.10/dist-packages/sklearn/cluster/_kmeans.py:870: FutureWarning: The default value of `n_init` will change from 10 to 'auto' in 1.4. Set the value of `n_init` explicitly to suppress the warning\n",
            "  warnings.warn(\n",
            "/usr/local/lib/python3.10/dist-packages/sklearn/cluster/_kmeans.py:870: FutureWarning: The default value of `n_init` will change from 10 to 'auto' in 1.4. Set the value of `n_init` explicitly to suppress the warning\n",
            "  warnings.warn(\n"
          ]
        },
        {
          "name": "stdout",
          "output_type": "stream",
          "text": [
            "Inertia:54.77691892913094\n",
            "Inertia:54.84820891481473\n"
          ]
        },
        {
          "name": "stderr",
          "output_type": "stream",
          "text": [
            "/usr/local/lib/python3.10/dist-packages/sklearn/cluster/_kmeans.py:870: FutureWarning: The default value of `n_init` will change from 10 to 'auto' in 1.4. Set the value of `n_init` explicitly to suppress the warning\n",
            "  warnings.warn(\n",
            "/usr/local/lib/python3.10/dist-packages/sklearn/cluster/_kmeans.py:870: FutureWarning: The default value of `n_init` will change from 10 to 'auto' in 1.4. Set the value of `n_init` explicitly to suppress the warning\n",
            "  warnings.warn(\n",
            "/usr/local/lib/python3.10/dist-packages/sklearn/cluster/_kmeans.py:870: FutureWarning: The default value of `n_init` will change from 10 to 'auto' in 1.4. Set the value of `n_init` explicitly to suppress the warning\n",
            "  warnings.warn(\n"
          ]
        },
        {
          "name": "stdout",
          "output_type": "stream",
          "text": [
            "Inertia:54.84820891481473\n",
            "Inertia:54.77691892913094\n",
            "Inertia:54.84820891481473\n",
            "Inertia:54.84820891481473\n",
            "Inertia:54.78348147566475\n"
          ]
        },
        {
          "name": "stderr",
          "output_type": "stream",
          "text": [
            "/usr/local/lib/python3.10/dist-packages/sklearn/cluster/_kmeans.py:870: FutureWarning: The default value of `n_init` will change from 10 to 'auto' in 1.4. Set the value of `n_init` explicitly to suppress the warning\n",
            "  warnings.warn(\n",
            "/usr/local/lib/python3.10/dist-packages/sklearn/cluster/_kmeans.py:870: FutureWarning: The default value of `n_init` will change from 10 to 'auto' in 1.4. Set the value of `n_init` explicitly to suppress the warning\n",
            "  warnings.warn(\n"
          ]
        }
      ],
      "source": [
        "for i in range(10):\n",
        "  from sklearn.cluster import KMeans\n",
        "  model = KMeans(n_clusters =3,random_state=(i*1000))\n",
        "  model.fit(X)\n",
        "  print(f'Inertia:{model.inertia_}')\n"
      ]
    },
    {
      "cell_type": "code",
      "execution_count": null,
      "metadata": {
        "id": "Tsk1anMt5sYg"
      },
      "outputs": [],
      "source": []
    }
  ],
  "metadata": {
    "colab": {
      "toc_visible": true,
      "provenance": [],
      "authorship_tag": "ABX9TyNt0FQqqoe3yU0D15fEMgdm",
      "include_colab_link": true
    },
    "kernelspec": {
      "display_name": "Python 3",
      "name": "python3"
    },
    "language_info": {
      "name": "python"
    }
  },
  "nbformat": 4,
  "nbformat_minor": 0
}